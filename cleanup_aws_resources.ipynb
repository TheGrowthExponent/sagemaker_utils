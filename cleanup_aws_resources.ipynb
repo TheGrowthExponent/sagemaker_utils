{
 "cells": [
  {
   "cell_type": "code",
   "execution_count": null,
   "metadata": {
    "collapsed": false,
    "jupyter": {
     "outputs_hidden": false
    },
    "pycharm": {
     "is_executing": true
    }
   },
   "outputs": [],
   "source": [
    "!pip install --upgrade pip\n",
    "!pip install -r requirements.txt --user"
   ]
  },
  {
   "cell_type": "code",
   "execution_count": null,
   "metadata": {
    "collapsed": false,
    "jupyter": {
     "outputs_hidden": false
    }
   },
   "outputs": [],
   "source": [
    "import time\n",
    "from datetime import datetime\n",
    "\n",
    "import boto3\n",
    "from sagemaker import get_execution_role\n",
    "\n",
    "# from sagemaker.experiments.experiment import Experiment\n",
    "\n",
    "sm = boto3.Session().client(\"sagemaker\")\n",
    "role = get_execution_role()\n",
    "print(role)"
   ]
  },
  {
   "cell_type": "code",
   "execution_count": null,
   "metadata": {
    "collapsed": false,
    "jupyter": {
     "outputs_hidden": false
    }
   },
   "outputs": [],
   "source": [
    "def get_regions():\n",
    "    ec2 = boto3.client(\"ec2\")\n",
    "    regions = ec2.describe_regions()\n",
    "    return [r[\"RegionName\"] for r in regions[\"Regions\"]]"
   ]
  },
  {
   "cell_type": "code",
   "execution_count": null,
   "metadata": {},
   "outputs": [],
   "source": [
    "def print_delete_result(_type, _name, deleted=False):\n",
    "    if deleted is True:\n",
    "        print(f\"\\n{_type} {_name} deleted\\n\")\n",
    "    else:\n",
    "        print(f\"\\nUnable to delete {_type} {_name}. It may not exist.\")"
   ]
  },
  {
   "cell_type": "code",
   "execution_count": null,
   "metadata": {},
   "outputs": [],
   "source": [
    "def search_projects(_project):\n",
    "    projects = sm.list_projects(NameContains=_project)\n",
    "\n",
    "    if \"NextToken\" in projects:\n",
    "        next_token = projects[\"NextToken\"]\n",
    "        print(f\"{next_token}\\n\")\n",
    "\n",
    "    print(\"ProjectNames:\")\n",
    "    for project in projects[\"ProjectSummaryList\"]:\n",
    "        project_name = project[\"ProjectName\"]\n",
    "        print(f\"\\n{project_name}\")"
   ]
  },
  {
   "cell_type": "code",
   "execution_count": null,
   "metadata": {
    "collapsed": false,
    "jupyter": {
     "outputs_hidden": false
    }
   },
   "outputs": [],
   "source": [
    "def cleanup_experiment(_experiment_name):\n",
    "    try:\n",
    "        trials = sm.list_trials(ExperimentName=_experiment_name)[\"TrialSummaries\"]\n",
    "        print(\"TrialNames:\")\n",
    "        for trial in trials:\n",
    "            trial_name = trial[\"TrialName\"]\n",
    "            print(f\"\\n{trial_name}\")\n",
    "\n",
    "            components_in_trial = sm.list_trial_components(TrialName=trial_name)\n",
    "            print(\"\\tTrialComponentNames:\")\n",
    "            for component in components_in_trial[\"TrialComponentSummaries\"]:\n",
    "                component_name = component[\"TrialComponentName\"]\n",
    "                print(f\"\\t{component_name}\")\n",
    "                sm.disassociate_trial_component(TrialComponentName=component_name, TrialName=trial_name)\n",
    "                try:\n",
    "                    # comment out to keep trial components\n",
    "                    sm.delete_trial_component(TrialComponentName=component_name)\n",
    "                    print_delete_result(\"Trial Component\", component_name, True)\n",
    "                except:\n",
    "                    # component is associated with another trial\n",
    "                    continue\n",
    "                # to prevent throttling\n",
    "                time.sleep(0.5)\n",
    "            sm.delete_trial(TrialName=trial_name)\n",
    "            print_delete_result(\"Trial\", trial_name, True)\n",
    "    except:\n",
    "        print_delete_result(\"Trial\", \"\", False)     \n",
    "        \n",
    "    try:    \n",
    "        sm.delete_experiment(ExperimentName=_experiment_name)\n",
    "        print_delete_result(\"Experiment\", _experiment_name, True)\n",
    "    except:\n",
    "        print_delete_result(\"Experiment\", _experiment_name, False)"
   ]
  },
  {
   "cell_type": "code",
   "execution_count": null,
   "metadata": {},
   "outputs": [],
   "source": [
    "def cleanup_model(_model_name):\n",
    "    models = sm.list_models(NameContains=_model_name)\n",
    "    model_bias_job_definitions = sm.list_model_bias_job_definitions(NameContains=_model_name)\n",
    "    model_explainability_job_definitions = sm.list_model_explainability_job_definitions(\n",
    "        NameContains=_model_name\n",
    "    )\n",
    "    # model_metadata = sm.list_model_metadata(NameContains=_model_name)\n",
    "    model_package_groups = sm.list_model_package_groups(NameContains=_model_name)\n",
    "    model_quality_job_definitions = sm.list_model_quality_job_definitions(NameContains=_model_name)\n",
    "\n",
    "    if \"NextToken\" in models:\n",
    "        next_token = models[\"NextToken\"]\n",
    "        print(f\"\\n{next_token}\")\n",
    "\n",
    "    print(\"JobDefinitions:\")\n",
    "    for model in model_bias_job_definitions[\"JobDefinitionSummaries\"]:\n",
    "        model_name = model[\"EndpointName\"]\n",
    "        print(f\"\\n{model_name}\")\n",
    "\n",
    "    print(\"JobDefinitions:\")\n",
    "    for model in model_explainability_job_definitions[\"JobDefinitionSummaries\"]:\n",
    "        model_name = model[\"EndpointName\"]\n",
    "        print(f\"\\n{model_name}\")\n",
    "\n",
    "    # print(\"ModelNames:\")\n",
    "    # for model in model_metadata[\"Models\"]:\n",
    "    #     model_name = model[\"ModelName\"]\n",
    "    #     print(f\"\\n{model_name}\")\n",
    "\n",
    "    print(\"ModelPackageGroupNames:\")\n",
    "    for group in model_package_groups[\"ModelPackageGroupSummaryList\"]:\n",
    "        group_name = group[\"ModelPackageGroupName\"]\n",
    "        print(f\"\\n{group_name}\")\n",
    "\n",
    "        model_packages = sm.list_model_packages(ModelPackageGroupName=group_name)\n",
    "        print(\"ModelPackageNames:\")\n",
    "        for package in model_packages[\"ModelPackageSummaryList\"]:\n",
    "            print(\"\\nPackage data\")\n",
    "            print(f\"{package}\")\n",
    "            if \"ModelPackageName\" in package:\n",
    "                package_name = package[\"ModelPackageName\"]\n",
    "                print(f\"\\n{package_name}\")\n",
    "                # sm.delete_model_package(ModelPackageName=package_name)\n",
    "            if \"ModelPackageArn\" in package:\n",
    "                package_arn = package[\"ModelPackageArn\"]\n",
    "                print(f\"\\n{package_arn}\")\n",
    "                sm.delete_model_package(ModelPackageName=package_arn)\n",
    "                print_delete_result(\"Model Package\", package_arn, True)\n",
    "\n",
    "        sm.delete_model_package_group(ModelPackageGroupName=group_name)\n",
    "        print_delete_result(\"Model Package Group\", group_name, True)\n",
    "\n",
    "    print(\"JobDefinitions:\")\n",
    "    for model in model_quality_job_definitions[\"JobDefinitionSummaries\"]:\n",
    "        model_name = model[\"EndpointName\"]\n",
    "        print(f\"\\n{model_name}\")\n",
    "\n",
    "    print(\"ModelNames:\")\n",
    "    for model in models[\"Models\"]:\n",
    "        model_name = model[\"ModelName\"]\n",
    "        sm.delete_model(ModelName=model_name)\n",
    "        print_delete_result(\"Model\", model_name, True)"
   ]
  },
  {
   "cell_type": "code",
   "execution_count": null,
   "metadata": {},
   "outputs": [],
   "source": [
    "def cleanup_endpoint_dont_use(_endpoint_name):\n",
    "    endpoints = sm.list_endpoints(NameContains=_endpoint_name)\n",
    "\n",
    "    if \"NextToken\" in endpoints:\n",
    "        next_token = endpoints[\"NextToken\"]\n",
    "        print(f\"\\n{next_token}\")\n",
    "\n",
    "    print(\"EndpointNames:\")\n",
    "    for endpoint in endpoints[\"Endpoints\"]:\n",
    "        endpoint_name = endpoint[\"EndpointName\"]\n",
    "        cleanup_endpoint(endpoint_name)\n",
    "\n",
    "    #     components_in_trial = sm.list_trial_components(TrialName=trial_name)\n",
    "    #     print(\"\\tTrialComponentNames:\")\n",
    "    #     for component in components_in_trial[\"TrialComponentSummaries\"]:\n",
    "    #         component_name = component[\"TrialComponentName\"]\n",
    "    #         print(f\"\\t{component_name}\")\n",
    "    #         sm.disassociate_trial_component(TrialComponentName=component_name, TrialName=trial_name)\n",
    "    #         try:\n",
    "    #             # comment out to keep trial components\n",
    "    #             sm.delete_trial_component(TrialComponentName=component_name)\n",
    "    #         except:\n",
    "    #             # component is associated with another trial\n",
    "    #             continue\n",
    "    #         # to prevent throttling\n",
    "    #         time.sleep(0.5)\n",
    "    #     sm.delete_trial(TrialName=trial_name)\n",
    "    # sm.delete_experiment(ExperimentName=_experiment_name)\n",
    "    # print(f\"\\nExperiment {_experiment_name} deleted\")"
   ]
  },
  {
   "cell_type": "code",
   "execution_count": null,
   "metadata": {
    "collapsed": false,
    "jupyter": {
     "outputs_hidden": false
    }
   },
   "outputs": [],
   "source": [
    "def cleanup_monitoring_schedules(_monitoring_schedule_name):\n",
    "    try:\n",
    "        sm.delete_monitoring_schedule(MonitoringScheduleName=_monitoring_schedule_name)\n",
    "        print_delete_result(\"Monitoring Schedule\", _monitoring_schedule_name, True)\n",
    "    except:\n",
    "        print_delete_result(\"Monitoring Schedule\", _monitoring_schedule_name, False)"
   ]
  },
  {
   "cell_type": "code",
   "execution_count": null,
   "metadata": {},
   "outputs": [],
   "source": [
    "def list_endpoints():    \n",
    "    endpoints = sm.list_endpoints()\n",
    "    for endpoint in endpoints[\"Endpoints\"]:\n",
    "        endpoint_name = endpoint[\"EndpointName\"]\n",
    "        print(endpoint_name)"
   ]
  },
  {
   "cell_type": "code",
   "execution_count": null,
   "metadata": {
    "collapsed": false,
    "jupyter": {
     "outputs_hidden": false
    }
   },
   "outputs": [],
   "source": [
    "def cleanup_endpoint(_endpoint_name):\n",
    "    try:\n",
    "        sm.delete_endpoint(EndpointName=_endpoint_name)\n",
    "        print_delete_result(\"Endpoint\", _endpoint_name, True)\n",
    "    except:\n",
    "        print_delete_result(\"Endpoint\", _endpoint_name, False)"
   ]
  },
  {
   "cell_type": "code",
   "execution_count": null,
   "metadata": {
    "tags": []
   },
   "outputs": [],
   "source": [
    "def list_endpoint_configs():    \n",
    "    endpoint_configs = sm.list_endpoint_configs()\n",
    "    for endpoint_config in endpoint_configs[\"EndpointConfigs\"]:\n",
    "        endpoint_config_name = endpoint_config[\"EndpointConfigName\"]\n",
    "        print(endpoint_config_name)"
   ]
  },
  {
   "cell_type": "code",
   "execution_count": null,
   "metadata": {
    "tags": []
   },
   "outputs": [],
   "source": [
    "def cleanup_endpoint_configs(_endpoint_configs_name):\n",
    "    try:\n",
    "        sm.delete_endpoint_config(EndpointConfigName=_endpoint_configs_name)\n",
    "        print_delete_result(\"Endpoint Config\", _endpoint_configs_name, True)\n",
    "    except:\n",
    "        print_delete_result(\"Endpoint Config\", _endpoint_configs_name, False)"
   ]
  },
  {
   "cell_type": "code",
   "execution_count": null,
   "metadata": {
    "tags": []
   },
   "outputs": [],
   "source": [
    "def list_hyper_parameter_tuning_jobs():\n",
    "    hyper_parameter_tuning_jobs = sm.list_hyper_parameter_tuning_jobs()\n",
    "    # print(hyper_parameter_tuning_jobs)\n",
    "    for hyper_parameter_tuning_job in hyper_parameter_tuning_jobs[\"HyperParameterTuningJobSummaries\"]:\n",
    "        hyper_parameter_tuning_job_name = hyper_parameter_tuning_job[\"HyperParameterTuningJobName\"]\n",
    "        print(hyper_parameter_tuning_job_name)"
   ]
  },
  {
   "cell_type": "code",
   "execution_count": null,
   "metadata": {},
   "outputs": [],
   "source": [
    "# def delete_hyper_parameter_tuning_job(_hyper_parameter_tuning_job_name):\n",
    "#     try:\n",
    "#         sm.delete_hyper_parameter_tuning_job(HyperParameterTuningJobName=_hyper_parameter_tuning_job_name)\n",
    "#         print_delete_result(\"HyperParameterTuningJob\", _hyper_parameter_tuning_job_name, True)\n",
    "#     except:\n",
    "#         print_delete_result(\"HyperParameterTuningJob\", _hyper_parameter_tuning_job_name, False)    "
   ]
  },
  {
   "cell_type": "code",
   "execution_count": null,
   "metadata": {},
   "outputs": [],
   "source": [
    "def cleanup_project(project_name):\n",
    "    try:\n",
    "        sm.delete_project(ProjectName=project_name)\n",
    "        print_delete_result(\"Project\", project_name, True)\n",
    "    except:\n",
    "        print_delete_result(\"Project\", project_name, False)"
   ]
  },
  {
   "cell_type": "code",
   "execution_count": null,
   "metadata": {
    "tags": []
   },
   "outputs": [],
   "source": [
    "def cleanup_pipeline(_pipeline_name):\n",
    "    pipelines = sm.list_pipelines(PipelineNamePrefix=_pipeline_name)\n",
    "    print(f\"{pipelines}\\n\")\n",
    "\n",
    "    if \"NextToken\" in pipelines:\n",
    "        next_token = pipelines[\"NextToken\"]\n",
    "        print(f\"{next_token}\\n\")\n",
    "\n",
    "    print(\"PipelineSummaries:\")\n",
    "    for pipeline in pipelines[\"PipelineSummaries\"]:\n",
    "        pipeline_name = pipeline[\"PipelineName\"]\n",
    "        pipeline_arn = pipeline[\"PipelineArn\"]\n",
    "        print(f\"{pipeline_name}\")\n",
    "        print(f\"{pipeline_arn}\")\n",
    "        sm.delete_pipeline(PipelineName=pipeline_name)\n",
    "        print_delete_result(\"Pipeline\", pipeline_name, True)"
   ]
  },
  {
   "cell_type": "code",
   "execution_count": null,
   "metadata": {
    "tags": []
   },
   "outputs": [],
   "source": [
    "def list_notebooks(_notebook_name=\"\"):\n",
    "    notebooks = sm.list_notebook_instances(MaxResults=100)\n",
    "    print(f\"{notebooks}\\n\")\n",
    "\n",
    "    if \"NextToken\" in notebooks:\n",
    "        next_token = notebooks[\"NextToken\"]\n",
    "        print(f\"{next_token}\\n\")\n",
    "\n",
    "    print(\"NotebookInstances:\")\n",
    "    for notebook in notebooks[\"NotebookInstances\"]:\n",
    "        notebook_name = notebook[\"NotebookInstanceName\"]\n",
    "        notebook_arn = notebook[\"NotebookInstanceArn\"]\n",
    "        print(f\"{notebook_name}\")\n",
    "        print(f\"{notebook_arn}\")\n",
    "        # sm.delete_pipeline(PipelineName=pipeline_name)\n",
    "        # print(f\"{notebook_name} stopped\")"
   ]
  },
  {
   "cell_type": "code",
   "execution_count": null,
   "metadata": {
    "tags": []
   },
   "outputs": [],
   "source": [
    "def stop_notebooks(_notebook_name=\"\"):\n",
    "    notebooks = sm.list_notebook_instances(MaxResults=100)\n",
    "    # print(f\"{notebooks}\\n\")\n",
    "\n",
    "    if \"NextToken\" in notebooks:\n",
    "        next_token = notebooks[\"NextToken\"]\n",
    "        print(f\"{next_token}\\n\")\n",
    "\n",
    "    print(\"NotebookInstances:\")\n",
    "    for notebook in notebooks[\"NotebookInstances\"]:\n",
    "        notebook_name = notebook[\"NotebookInstanceName\"]\n",
    "        notebook_arn = notebook[\"NotebookInstanceArn\"]\n",
    "        notebook_status = notebook[\"NotebookInstanceStatus\"]\n",
    "\n",
    "        print(f\"{notebook_name}\")\n",
    "        print(f\"{notebook_arn}\")\n",
    "        print(f\"{notebook_status}\")\n",
    "        if notebook_status == \"InService\":\n",
    "            sm.stop_notebook_instance(NotebookInstanceName=notebook_name)\n",
    "            print(f\"{notebook_name} stopped\")"
   ]
  },
  {
   "cell_type": "code",
   "execution_count": null,
   "metadata": {
    "tags": []
   },
   "outputs": [],
   "source": [
    "def list_domains(_domain_name=\"\"):\n",
    "    domains = sm.list_domains()\n",
    "    print(f\"\\n{domains}\\n\")\n",
    "\n",
    "    if \"NextToken\" in domains:\n",
    "        next_token = domains[\"NextToken\"]\n",
    "        print(f\"\\n{next_token}\")\n",
    "\n",
    "    print(\"Domains:\")\n",
    "    for domain in domains[\"Domains\"]:\n",
    "        domain_name = domain[\"DomainName\"]\n",
    "        domain_id = domain[\"DomainId\"]\n",
    "        domain_arn = domain[\"DomainArn\"]\n",
    "        print(f\"{domain_name}\")\n",
    "        print(f\"{domain_id}\")\n",
    "        print(f\"{domain_arn}\")\n",
    "    # sm.delete_pipeline(PipelineName=pipeline_name)\n",
    "    # print(f\"{notebook_name} stopped\")"
   ]
  },
  {
   "cell_type": "code",
   "execution_count": null,
   "metadata": {
    "tags": []
   },
   "outputs": [],
   "source": [
    "def list_training_jobs(_jobname):\n",
    "    print(\"list_training_jobs\\n\")\n",
    "    search_params = {\n",
    "        \"MaxResults\": 10,\n",
    "        \"Resource\": \"TrainingJob\",\n",
    "        \"SearchExpression\": {\n",
    "            \"Filters\": [{\"Name\": \"TrainingJobName\", \"Operator\": \"Contains\", \"Value\": _jobname}]\n",
    "            # \"Filters\": [{\"Name\": \"Tags.sm-jumpstart-id\", \"Operator\": \"Equals\", \"Value\": _project}]\n",
    "        }\n",
    "        # \"SortBy\": \"Metrics.train:binary_classification_accuracy\",\n",
    "        # \"SortOrder\": \"Descending\",\n",
    "    }\n",
    "    results = sm.search(**search_params)\n",
    "    # print(results)\n",
    "    return results"
   ]
  },
  {
   "cell_type": "code",
   "execution_count": null,
   "metadata": {
    "tags": []
   },
   "outputs": [],
   "source": [
    "def cleanup_training_jobs(_jobname):\n",
    "    print(\"cleanup_training_jobs\\n\")\n",
    "    try:\n",
    "        results = list_training_jobs(_jobname)\n",
    "        # print(training_jobs)\n",
    "        # print(training_jobs['Results'])\n",
    "        for result in results['Results']:\n",
    "            # print(result['TrainingJob'])\n",
    "            training_job = result['TrainingJob']\n",
    "            training_job_name = training_job['TrainingJobName']\n",
    "            print(f\"training_job_name: {training_job_name}\")\n",
    "            sm.stop_training_job(TrainingJobName=training_job_name)\n",
    "            print_delete_result(\"TrainingJob\", training_job_name, True)\n",
    "    except:\n",
    "        print_delete_result(\"TrainingJob\", _jobname, False)"
   ]
  },
  {
   "cell_type": "code",
   "execution_count": null,
   "metadata": {
    "tags": []
   },
   "outputs": [],
   "source": [
    "def list_experiments():\n",
    "    print(\"list_experiments\\n\")\n",
    "    experiments = sm.list_experiments(\n",
    "        # CreatedAfter=datetime(2015, 1, 1),\n",
    "        # CreatedBefore=datetime(2015, 1, 1),\n",
    "        SortBy=\"CreationTime\",  # \"Name\" | \"CreationTime\"\n",
    "        SortOrder=\"Descending\",  # \"Ascending\" | \"Descending\"\n",
    "        # NextToken=\"string\",\n",
    "        # MaxResults=123,\n",
    "    )\n",
    "\n",
    "    print(f\"\\n{experiments}\")\n",
    "\n",
    "    if \"NextToken\" in experiments:\n",
    "        next_token = experiments[\"NextToken\"]\n",
    "        print(f\"\\n{next_token}\")\n",
    "\n",
    "    print(\"Domains:\")\n",
    "    for experiment in experiments[\"ExperimentSummaries\"]:\n",
    "        experiment_name = experiment[\"ExperimentName\"]\n",
    "        # domain_id = domain[\"DomainId\"]\n",
    "        # domain_arn = domain[\"DomainArn\"]\n",
    "        print(f\"{experiment_name}\")\n",
    "        # print(f\"{domain_id}\")\n",
    "        # print(f\"{domain_arn}\")"
   ]
  },
  {
   "cell_type": "code",
   "execution_count": null,
   "metadata": {
    "tags": []
   },
   "outputs": [],
   "source": [
    "def list_models():\n",
    "    print(\"list_models\\n\")\n",
    "    models = sm.list_models(\n",
    "        # CreationTimeAfter=datetime(2015, 1, 1),\n",
    "        CreationTimeBefore=datetime(2023, 1, 1),\n",
    "        SortBy=\"CreationTime\",  # \"Name\" | \"CreationTime\"\n",
    "        SortOrder=\"Descending\",  # \"Ascending\" | \"Descending\"\n",
    "        # NextToken=\"string\",\n",
    "        # MaxResults=123,\n",
    "    )\n",
    "\n",
    "    print(f\"\\n{models}\")"
   ]
  },
  {
   "cell_type": "code",
   "execution_count": null,
   "metadata": {
    "tags": []
   },
   "outputs": [],
   "source": [
    "def get_experiments(_next_token=\"\"):\n",
    "    print(\"get_experiments\\n\")\n",
    "\n",
    "    if len(_next_token) > 0:\n",
    "        return sm.list_experiments(\n",
    "            # CreatedAfter=datetime(2015, 1, 1),\n",
    "            CreatedBefore=datetime(2023, 1, 1),\n",
    "            SortBy=\"CreationTime\",  # \"Name\" | \"CreationTime\"\n",
    "            SortOrder=\"Descending\",  # \"Ascending\" | \"Descending\"\n",
    "            NextToken=_next_token,\n",
    "            MaxResults=10,\n",
    "        )\n",
    "    else:\n",
    "        return sm.list_experiments(\n",
    "            # CreatedAfter=datetime(2015, 1, 1),\n",
    "            CreatedBefore=datetime(2023, 1, 1),\n",
    "            SortBy=\"CreationTime\",  # \"Name\" | \"CreationTime\"\n",
    "            SortOrder=\"Descending\",  # \"Ascending\" | \"Descending\"\n",
    "            MaxResults=10,\n",
    "        )"
   ]
  },
  {
   "cell_type": "code",
   "execution_count": null,
   "metadata": {
    "tags": []
   },
   "outputs": [],
   "source": [
    "def get_models(_next_token=\"\"):\n",
    "    print(\"get_models\\n\")\n",
    "\n",
    "    if len(_next_token) > 0:\n",
    "        return sm.list_models(\n",
    "            # CreationTimeAfter=datetime(2015, 1, 1),\n",
    "            CreationTimeBefore=datetime(2023, 1, 1),\n",
    "            SortBy=\"CreationTime\",  # \"Name\" | \"CreationTime\"\n",
    "            SortOrder=\"Descending\",  # \"Ascending\" | \"Descending\"\n",
    "            NextToken=_next_token,\n",
    "            MaxResults=10,\n",
    "        )\n",
    "    else:\n",
    "        return sm.list_models(\n",
    "            # CreationTimeAfter=datetime(2015, 1, 1),\n",
    "            CreationTimeBefore=datetime(2023, 1, 1),\n",
    "            SortBy=\"CreationTime\",  # \"Name\" | \"CreationTime\"\n",
    "            SortOrder=\"Descending\",  # \"Ascending\" | \"Descending\"\n",
    "            MaxResults=10,\n",
    "        )"
   ]
  },
  {
   "cell_type": "code",
   "execution_count": null,
   "metadata": {
    "tags": []
   },
   "outputs": [],
   "source": [
    "def cleanup_model_packages(mpg_name):\n",
    "\n",
    "    print(\"cleanup_model_packages\\n\")\n",
    "    try:\n",
    "        mpg = sm.list_model_packages(\n",
    "            ModelPackageGroupName=mpg_name,\n",
    "        )\n",
    "\n",
    "        # Delete model packages if Group not empty\n",
    "        model_packages = mpg.get('ModelPackageSummaryList')\n",
    "        if model_packages:\n",
    "            for mp in model_packages:\n",
    "                sm.delete_model_package(\n",
    "                    ModelPackageName=mp['ModelPackageArn']\n",
    "                )\n",
    "                time.sleep(1)\n",
    "\n",
    "        # Delete model package group\n",
    "        sm.delete_model_package_group(\n",
    "            ModelPackageGroupName=mpg_name\n",
    "        )\n",
    "        print_delete_result(\"ModelPackages\", mpg_name, True)\n",
    "    except:\n",
    "        print_delete_result(\"ModelPackages\", mpg_name, False)    "
   ]
  },
  {
   "cell_type": "code",
   "execution_count": null,
   "metadata": {
    "tags": []
   },
   "outputs": [],
   "source": [
    "def list_user_profiles(_domain_id, _username=\"\"):\n",
    "    print(\"list_user_profiles\\n\")\n",
    "    \n",
    "    if len(_username) > 0:\n",
    "         user_profiles = sm.list_user_profiles(\n",
    "            DomainIdEquals=_domain_id,\n",
    "            UserProfileNameContains=_username\n",
    "        )\n",
    "    else:\n",
    "        user_profiles = sm.list_user_profiles(\n",
    "            DomainIdEquals=_domain_id\n",
    "        )\n",
    "    # print(f\"\\n{user_profiles}\")\n",
    "    for user_profile in user_profiles[\"UserProfiles\"]:\n",
    "        user_profile_name = user_profile[\"UserProfileName\"]\n",
    "        print(f\"{user_profile_name}\")"
   ]
  },
  {
   "cell_type": "code",
   "execution_count": null,
   "metadata": {},
   "outputs": [],
   "source": [
    "def delete_user_profile(_domain_id, _username):\n",
    "    print(\"delete_user_profile\\n\")\n",
    "    \n",
    "    try:\n",
    "        sm.delete_user_profile(\n",
    "            DomainId=_domain_id,\n",
    "            UserProfileName=_username\n",
    "        )\n",
    "    \n",
    "        print_delete_result(\"UserProfile\", _username, True)\n",
    "    except:\n",
    "        print_delete_result(\"UserProfile\", _username, False) "
   ]
  },
  {
   "cell_type": "code",
   "execution_count": null,
   "metadata": {
    "tags": []
   },
   "outputs": [],
   "source": [
    "def list_sagemaker_apps(_domain_id, app_name=\"\"):\n",
    "    print(\"list_sagemaker_apps\\n\")\n",
    "    \n",
    "    if len(app_name) > 0:\n",
    "         sagemaker_apps = sm.list_apps(\n",
    "            DomainIdEquals=_domain_id,\n",
    "            UserProfileNameContains=_app\n",
    "        )\n",
    "    else:\n",
    "        sagemaker_apps = sm.list_apps(\n",
    "            DomainIdEquals=_domain_id\n",
    "        )\n",
    "    # print(f\"\\n{sagemaker_apps}\")\n",
    "    for sagemaker_app in sagemaker_apps[\"Apps\"]:\n",
    "        user_profile_name = sagemaker_app[\"UserProfileName\"]\n",
    "        app_type = sagemaker_app[\"AppType\"]\n",
    "        app_name = sagemaker_app[\"AppName\"]\n",
    "        app_status = sagemaker_app[\"Status\"]\n",
    "        \n",
    "        print(f\"{user_profile_name}\")\n",
    "        print(f\"{app_type}\")\n",
    "        print(f\"{app_name}\")\n",
    "        print(f\"{app_status}\\n\")"
   ]
  },
  {
   "cell_type": "code",
   "execution_count": null,
   "metadata": {
    "tags": []
   },
   "outputs": [],
   "source": [
    "def delete_sagemaker_app(_domain_id, _username, _app_type, _app_name):\n",
    "    print(\"delete_sagemaker_app\\n\")\n",
    "    \n",
    "    try:\n",
    "        sm.delete_app(\n",
    "            DomainId=_domain_id,\n",
    "            UserProfileName=_username,\n",
    "            AppType=_app_type,\n",
    "            AppName=_app_name\n",
    "        )\n",
    "    \n",
    "        print_delete_result(\"Sagemaker App\", _app_name, True)\n",
    "    except:\n",
    "        print_delete_result(\"Sagemaker App\", _app_name, False) "
   ]
  },
  {
   "cell_type": "code",
   "execution_count": null,
   "metadata": {},
   "outputs": [],
   "source": [
    "def cleanup_sagemaker_apps(_domain_id, delete_all=False):\n",
    "    print(\"cleanup_sagemaker_apps\\n\")\n",
    "    \n",
    "    sagemaker_apps = sm.list_apps(\n",
    "        DomainIdEquals=_domain_id\n",
    "    )\n",
    "    \n",
    "    # print(f\"\\n{sagemaker_apps}\")\n",
    "    for sagemaker_app in sagemaker_apps[\"Apps\"]:\n",
    "        user_profile_name = sagemaker_app[\"UserProfileName\"]\n",
    "        app_type = sagemaker_app[\"AppType\"]\n",
    "        app_name = sagemaker_app[\"AppName\"]\n",
    "        app_status = sagemaker_app[\"Status\"]\n",
    "        \n",
    "        print(f\"{user_profile_name}\")\n",
    "        print(f\"{app_type}\")\n",
    "        print(f\"{app_name}\")\n",
    "        print(f\"{app_status}\\n\") \n",
    "        \n",
    "        if delete_all==True and app_status==\"InService\":\n",
    "            delete_sagemaker_app(_domain_id, user_profile_name, app_type, app_name)\n",
    "        else:\n",
    "            if app_type!=\"JupyterServer\" and app_status==\"InService\":\n",
    "                delete_sagemaker_app(_domain_id, user_profile_name, app_type, app_name)"
   ]
  },
  {
   "cell_type": "code",
   "execution_count": null,
   "metadata": {
    "tags": []
   },
   "outputs": [],
   "source": [
    "# cleanup_experiment(\"pipelines-hep11qrercy0-Tra-ProfilerReport-1691645888-76d4c6e5-aws-processing-job\")"
   ]
  },
  {
   "cell_type": "code",
   "execution_count": null,
   "metadata": {
    "collapsed": false,
    "jupyter": {
     "outputs_hidden": false
    }
   },
   "outputs": [],
   "source": [
    "# search_projects(\"test2\")"
   ]
  },
  {
   "cell_type": "code",
   "execution_count": null,
   "metadata": {},
   "outputs": [],
   "source": [
    "# cleanup_model(\"pytorch-ic-mobilenet-v2-20230630-053753\")"
   ]
  },
  {
   "cell_type": "code",
   "execution_count": null,
   "metadata": {},
   "outputs": [],
   "source": [
    "# cleanup_project(\"test1-1-3\")"
   ]
  },
  {
   "cell_type": "code",
   "execution_count": null,
   "metadata": {},
   "outputs": [],
   "source": [
    "# list_endpoints()"
   ]
  },
  {
   "cell_type": "code",
   "execution_count": null,
   "metadata": {},
   "outputs": [],
   "source": [
    "# cleanup_endpoint(\"fraud-detect-demo-xgboost-post-smote-endpoint\")"
   ]
  },
  {
   "cell_type": "code",
   "execution_count": null,
   "metadata": {},
   "outputs": [],
   "source": [
    "# cleanup_pipeline(\"test2-1-3-test2-1-3\")"
   ]
  },
  {
   "cell_type": "code",
   "execution_count": null,
   "metadata": {
    "tags": []
   },
   "outputs": [],
   "source": [
    "# list_notebooks()"
   ]
  },
  {
   "cell_type": "code",
   "execution_count": null,
   "metadata": {
    "tags": []
   },
   "outputs": [],
   "source": [
    "# stop_notebooks()"
   ]
  },
  {
   "cell_type": "code",
   "execution_count": null,
   "metadata": {
    "tags": []
   },
   "outputs": [],
   "source": [
    "# list_domains()"
   ]
  },
  {
   "cell_type": "code",
   "execution_count": null,
   "metadata": {
    "tags": []
   },
   "outputs": [],
   "source": [
    "# list_training_jobs(\"pipelines-hep11qrercy0-Tra-ProfilerReport-1691645888-76d4c6e5-aws-processing-job\")"
   ]
  },
  {
   "cell_type": "code",
   "execution_count": null,
   "metadata": {
    "tags": []
   },
   "outputs": [],
   "source": [
    "# cleanup_training_jobs(\"pipelines-yovlk5yf2sph-CustomerChurnTrain-bFwU1TUKQj\")"
   ]
  },
  {
   "cell_type": "code",
   "execution_count": null,
   "metadata": {
    "tags": []
   },
   "outputs": [],
   "source": [
    "# list_models()"
   ]
  },
  {
   "cell_type": "code",
   "execution_count": null,
   "metadata": {},
   "outputs": [],
   "source": [
    "# models = get_models()\n",
    "# print(f\"\\n{models}\")\n",
    "# max_loops = 3\n",
    "# current_loop = 0\n",
    "\n",
    "\n",
    "# while True:\n",
    "#     next_token = \"\"\n",
    "#     current_loop = current_loop + 1\n",
    "\n",
    "#     if \"NextToken\" in models:\n",
    "#         next_token = models[\"NextToken\"]\n",
    "#         print(f\"\\n{next_token}\")\n",
    "\n",
    "#     print(\"Models:\")\n",
    "#     for model in models[\"Models\"]:\n",
    "#         model_name = model[\"ModelName\"]\n",
    "#         # domain_id = domain[\"DomainId\"]\n",
    "#         # domain_arn = domain[\"DomainArn\"]\n",
    "#         print(f\"{model_name}\")\n",
    "#         # print(f\"{domain_id}\")\n",
    "#         # print(f\"{domain_arn}\")\n",
    "\n",
    "#         print(f\"{model_name[:22]}\")\n",
    "\n",
    "#         if model_name[:22] == \"sagemaker-xgboost-2021\":\n",
    "#             cleanup_model(model_name)\n",
    "#             print(\"\")\n",
    "\n",
    "#     if len(next_token) == 0:\n",
    "#         break\n",
    "\n",
    "#     if current_loop == 3:\n",
    "#         break\n",
    "\n",
    "#     models = get_models(next_token)"
   ]
  },
  {
   "cell_type": "code",
   "execution_count": null,
   "metadata": {
    "tags": []
   },
   "outputs": [],
   "source": [
    "# list_endpoint_configs()"
   ]
  },
  {
   "cell_type": "code",
   "execution_count": null,
   "metadata": {},
   "outputs": [],
   "source": [
    "# cleanup_endpoint_configs(\"imageidsbx-xgb-model-27-06-2023-04-49-48\")"
   ]
  },
  {
   "cell_type": "code",
   "execution_count": null,
   "metadata": {
    "tags": []
   },
   "outputs": [],
   "source": [
    "# list_hyper_parameter_tuning_jobs()"
   ]
  },
  {
   "cell_type": "code",
   "execution_count": null,
   "metadata": {
    "tags": []
   },
   "outputs": [],
   "source": [
    "# cleanup_model_packages(\"test2-1-3-test2-1-3\")"
   ]
  },
  {
   "cell_type": "code",
   "execution_count": null,
   "metadata": {
    "tags": []
   },
   "outputs": [],
   "source": [
    "# list_user_profiles(\"d-exyuk9ar3nj6\")"
   ]
  },
  {
   "cell_type": "code",
   "execution_count": null,
   "metadata": {},
   "outputs": [],
   "source": [
    "# delete_user_profile(\"d-2orjhqoncime\", \"sonali-suhane-fmgl-com-au-f33\")"
   ]
  },
  {
   "cell_type": "code",
   "execution_count": null,
   "metadata": {
    "tags": []
   },
   "outputs": [],
   "source": [
    "# list_sagemaker_apps(\"d-exyuk9ar3nj6\", True)"
   ]
  },
  {
   "cell_type": "code",
   "execution_count": null,
   "metadata": {
    "tags": []
   },
   "outputs": [],
   "source": [
    "# delete_sagemaker_app(\"d-exyuk9ar3nj6\", \"jason-pascoe-fmgl-com-au-cd6\", \"KernelGateway\", \"sagemaker-data-science-ml-m5-large-7b47fa541721b8624e59dbef0f5c\")"
   ]
  },
  {
   "cell_type": "code",
   "execution_count": null,
   "metadata": {
    "tags": []
   },
   "outputs": [],
   "source": [
    "# cleanup_sagemaker_apps(\"d-exyuk9ar3nj6\")"
   ]
  },
  {
   "cell_type": "code",
   "execution_count": null,
   "metadata": {
    "tags": []
   },
   "outputs": [],
   "source": [
    "cleanup_sagemaker_apps(\"d-exyuk9ar3nj6\", True) # sandbox-AdvancedAnalytics\n",
    "cleanup_sagemaker_apps(\"d-kdxm9mz64f34\", True) # AdvancedAnalytics-Development\n",
    "cleanup_sagemaker_apps(\"d-hi9bvtcoaodl\", True) # dataanalytics-prod\n",
    "cleanup_sagemaker_apps(\"d-2tbfyrzxw1gd\", True) # integrated-operations-nonprod\n",
    "cleanup_sagemaker_apps(\"d-fzitqoism1r5\", True) # health-and-safety-prod\n",
    "cleanup_sagemaker_apps(\"d-3vgzytoppeft\", True) # ffi-data-analytics-prod\n",
    "cleanup_sagemaker_apps(\"d-ydbl7vwzbskn\", True) # AdvancedAnalytics-PreProd\n",
    "cleanup_sagemaker_apps(\"d-gwwwk6x5t52u\", True) # AdvancedAnalytics-Prod\n",
    "# cleanup_sagemaker_apps(\"d-\") # mlops-sandbox"
   ]
  },
  {
   "cell_type": "code",
   "execution_count": null,
   "metadata": {},
   "outputs": [],
   "source": []
  }
 ],
 "metadata": {
  "availableInstances": [
   {
    "_defaultOrder": 0,
    "_isFastLaunch": true,
    "category": "General purpose",
    "gpuNum": 0,
    "hideHardwareSpecs": false,
    "memoryGiB": 4,
    "name": "ml.t3.medium",
    "vcpuNum": 2
   },
   {
    "_defaultOrder": 1,
    "_isFastLaunch": false,
    "category": "General purpose",
    "gpuNum": 0,
    "hideHardwareSpecs": false,
    "memoryGiB": 8,
    "name": "ml.t3.large",
    "vcpuNum": 2
   },
   {
    "_defaultOrder": 2,
    "_isFastLaunch": false,
    "category": "General purpose",
    "gpuNum": 0,
    "hideHardwareSpecs": false,
    "memoryGiB": 16,
    "name": "ml.t3.xlarge",
    "vcpuNum": 4
   },
   {
    "_defaultOrder": 3,
    "_isFastLaunch": false,
    "category": "General purpose",
    "gpuNum": 0,
    "hideHardwareSpecs": false,
    "memoryGiB": 32,
    "name": "ml.t3.2xlarge",
    "vcpuNum": 8
   },
   {
    "_defaultOrder": 4,
    "_isFastLaunch": true,
    "category": "General purpose",
    "gpuNum": 0,
    "hideHardwareSpecs": false,
    "memoryGiB": 8,
    "name": "ml.m5.large",
    "vcpuNum": 2
   },
   {
    "_defaultOrder": 5,
    "_isFastLaunch": false,
    "category": "General purpose",
    "gpuNum": 0,
    "hideHardwareSpecs": false,
    "memoryGiB": 16,
    "name": "ml.m5.xlarge",
    "vcpuNum": 4
   },
   {
    "_defaultOrder": 6,
    "_isFastLaunch": false,
    "category": "General purpose",
    "gpuNum": 0,
    "hideHardwareSpecs": false,
    "memoryGiB": 32,
    "name": "ml.m5.2xlarge",
    "vcpuNum": 8
   },
   {
    "_defaultOrder": 7,
    "_isFastLaunch": false,
    "category": "General purpose",
    "gpuNum": 0,
    "hideHardwareSpecs": false,
    "memoryGiB": 64,
    "name": "ml.m5.4xlarge",
    "vcpuNum": 16
   },
   {
    "_defaultOrder": 8,
    "_isFastLaunch": false,
    "category": "General purpose",
    "gpuNum": 0,
    "hideHardwareSpecs": false,
    "memoryGiB": 128,
    "name": "ml.m5.8xlarge",
    "vcpuNum": 32
   },
   {
    "_defaultOrder": 9,
    "_isFastLaunch": false,
    "category": "General purpose",
    "gpuNum": 0,
    "hideHardwareSpecs": false,
    "memoryGiB": 192,
    "name": "ml.m5.12xlarge",
    "vcpuNum": 48
   },
   {
    "_defaultOrder": 10,
    "_isFastLaunch": false,
    "category": "General purpose",
    "gpuNum": 0,
    "hideHardwareSpecs": false,
    "memoryGiB": 256,
    "name": "ml.m5.16xlarge",
    "vcpuNum": 64
   },
   {
    "_defaultOrder": 11,
    "_isFastLaunch": false,
    "category": "General purpose",
    "gpuNum": 0,
    "hideHardwareSpecs": false,
    "memoryGiB": 384,
    "name": "ml.m5.24xlarge",
    "vcpuNum": 96
   },
   {
    "_defaultOrder": 12,
    "_isFastLaunch": false,
    "category": "General purpose",
    "gpuNum": 0,
    "hideHardwareSpecs": false,
    "memoryGiB": 8,
    "name": "ml.m5d.large",
    "vcpuNum": 2
   },
   {
    "_defaultOrder": 13,
    "_isFastLaunch": false,
    "category": "General purpose",
    "gpuNum": 0,
    "hideHardwareSpecs": false,
    "memoryGiB": 16,
    "name": "ml.m5d.xlarge",
    "vcpuNum": 4
   },
   {
    "_defaultOrder": 14,
    "_isFastLaunch": false,
    "category": "General purpose",
    "gpuNum": 0,
    "hideHardwareSpecs": false,
    "memoryGiB": 32,
    "name": "ml.m5d.2xlarge",
    "vcpuNum": 8
   },
   {
    "_defaultOrder": 15,
    "_isFastLaunch": false,
    "category": "General purpose",
    "gpuNum": 0,
    "hideHardwareSpecs": false,
    "memoryGiB": 64,
    "name": "ml.m5d.4xlarge",
    "vcpuNum": 16
   },
   {
    "_defaultOrder": 16,
    "_isFastLaunch": false,
    "category": "General purpose",
    "gpuNum": 0,
    "hideHardwareSpecs": false,
    "memoryGiB": 128,
    "name": "ml.m5d.8xlarge",
    "vcpuNum": 32
   },
   {
    "_defaultOrder": 17,
    "_isFastLaunch": false,
    "category": "General purpose",
    "gpuNum": 0,
    "hideHardwareSpecs": false,
    "memoryGiB": 192,
    "name": "ml.m5d.12xlarge",
    "vcpuNum": 48
   },
   {
    "_defaultOrder": 18,
    "_isFastLaunch": false,
    "category": "General purpose",
    "gpuNum": 0,
    "hideHardwareSpecs": false,
    "memoryGiB": 256,
    "name": "ml.m5d.16xlarge",
    "vcpuNum": 64
   },
   {
    "_defaultOrder": 19,
    "_isFastLaunch": false,
    "category": "General purpose",
    "gpuNum": 0,
    "hideHardwareSpecs": false,
    "memoryGiB": 384,
    "name": "ml.m5d.24xlarge",
    "vcpuNum": 96
   },
   {
    "_defaultOrder": 20,
    "_isFastLaunch": false,
    "category": "General purpose",
    "gpuNum": 0,
    "hideHardwareSpecs": true,
    "memoryGiB": 0,
    "name": "ml.geospatial.interactive",
    "supportedImageNames": [
     "sagemaker-geospatial-v1-0"
    ],
    "vcpuNum": 0
   },
   {
    "_defaultOrder": 21,
    "_isFastLaunch": true,
    "category": "Compute optimized",
    "gpuNum": 0,
    "hideHardwareSpecs": false,
    "memoryGiB": 4,
    "name": "ml.c5.large",
    "vcpuNum": 2
   },
   {
    "_defaultOrder": 22,
    "_isFastLaunch": false,
    "category": "Compute optimized",
    "gpuNum": 0,
    "hideHardwareSpecs": false,
    "memoryGiB": 8,
    "name": "ml.c5.xlarge",
    "vcpuNum": 4
   },
   {
    "_defaultOrder": 23,
    "_isFastLaunch": false,
    "category": "Compute optimized",
    "gpuNum": 0,
    "hideHardwareSpecs": false,
    "memoryGiB": 16,
    "name": "ml.c5.2xlarge",
    "vcpuNum": 8
   },
   {
    "_defaultOrder": 24,
    "_isFastLaunch": false,
    "category": "Compute optimized",
    "gpuNum": 0,
    "hideHardwareSpecs": false,
    "memoryGiB": 32,
    "name": "ml.c5.4xlarge",
    "vcpuNum": 16
   },
   {
    "_defaultOrder": 25,
    "_isFastLaunch": false,
    "category": "Compute optimized",
    "gpuNum": 0,
    "hideHardwareSpecs": false,
    "memoryGiB": 72,
    "name": "ml.c5.9xlarge",
    "vcpuNum": 36
   },
   {
    "_defaultOrder": 26,
    "_isFastLaunch": false,
    "category": "Compute optimized",
    "gpuNum": 0,
    "hideHardwareSpecs": false,
    "memoryGiB": 96,
    "name": "ml.c5.12xlarge",
    "vcpuNum": 48
   },
   {
    "_defaultOrder": 27,
    "_isFastLaunch": false,
    "category": "Compute optimized",
    "gpuNum": 0,
    "hideHardwareSpecs": false,
    "memoryGiB": 144,
    "name": "ml.c5.18xlarge",
    "vcpuNum": 72
   },
   {
    "_defaultOrder": 28,
    "_isFastLaunch": false,
    "category": "Compute optimized",
    "gpuNum": 0,
    "hideHardwareSpecs": false,
    "memoryGiB": 192,
    "name": "ml.c5.24xlarge",
    "vcpuNum": 96
   },
   {
    "_defaultOrder": 29,
    "_isFastLaunch": true,
    "category": "Accelerated computing",
    "gpuNum": 1,
    "hideHardwareSpecs": false,
    "memoryGiB": 16,
    "name": "ml.g4dn.xlarge",
    "vcpuNum": 4
   },
   {
    "_defaultOrder": 30,
    "_isFastLaunch": false,
    "category": "Accelerated computing",
    "gpuNum": 1,
    "hideHardwareSpecs": false,
    "memoryGiB": 32,
    "name": "ml.g4dn.2xlarge",
    "vcpuNum": 8
   },
   {
    "_defaultOrder": 31,
    "_isFastLaunch": false,
    "category": "Accelerated computing",
    "gpuNum": 1,
    "hideHardwareSpecs": false,
    "memoryGiB": 64,
    "name": "ml.g4dn.4xlarge",
    "vcpuNum": 16
   },
   {
    "_defaultOrder": 32,
    "_isFastLaunch": false,
    "category": "Accelerated computing",
    "gpuNum": 1,
    "hideHardwareSpecs": false,
    "memoryGiB": 128,
    "name": "ml.g4dn.8xlarge",
    "vcpuNum": 32
   },
   {
    "_defaultOrder": 33,
    "_isFastLaunch": false,
    "category": "Accelerated computing",
    "gpuNum": 4,
    "hideHardwareSpecs": false,
    "memoryGiB": 192,
    "name": "ml.g4dn.12xlarge",
    "vcpuNum": 48
   },
   {
    "_defaultOrder": 34,
    "_isFastLaunch": false,
    "category": "Accelerated computing",
    "gpuNum": 1,
    "hideHardwareSpecs": false,
    "memoryGiB": 256,
    "name": "ml.g4dn.16xlarge",
    "vcpuNum": 64
   },
   {
    "_defaultOrder": 35,
    "_isFastLaunch": false,
    "category": "Accelerated computing",
    "gpuNum": 1,
    "hideHardwareSpecs": false,
    "memoryGiB": 61,
    "name": "ml.p3.2xlarge",
    "vcpuNum": 8
   },
   {
    "_defaultOrder": 36,
    "_isFastLaunch": false,
    "category": "Accelerated computing",
    "gpuNum": 4,
    "hideHardwareSpecs": false,
    "memoryGiB": 244,
    "name": "ml.p3.8xlarge",
    "vcpuNum": 32
   },
   {
    "_defaultOrder": 37,
    "_isFastLaunch": false,
    "category": "Accelerated computing",
    "gpuNum": 8,
    "hideHardwareSpecs": false,
    "memoryGiB": 488,
    "name": "ml.p3.16xlarge",
    "vcpuNum": 64
   },
   {
    "_defaultOrder": 38,
    "_isFastLaunch": false,
    "category": "Accelerated computing",
    "gpuNum": 8,
    "hideHardwareSpecs": false,
    "memoryGiB": 768,
    "name": "ml.p3dn.24xlarge",
    "vcpuNum": 96
   },
   {
    "_defaultOrder": 39,
    "_isFastLaunch": false,
    "category": "Memory Optimized",
    "gpuNum": 0,
    "hideHardwareSpecs": false,
    "memoryGiB": 16,
    "name": "ml.r5.large",
    "vcpuNum": 2
   },
   {
    "_defaultOrder": 40,
    "_isFastLaunch": false,
    "category": "Memory Optimized",
    "gpuNum": 0,
    "hideHardwareSpecs": false,
    "memoryGiB": 32,
    "name": "ml.r5.xlarge",
    "vcpuNum": 4
   },
   {
    "_defaultOrder": 41,
    "_isFastLaunch": false,
    "category": "Memory Optimized",
    "gpuNum": 0,
    "hideHardwareSpecs": false,
    "memoryGiB": 64,
    "name": "ml.r5.2xlarge",
    "vcpuNum": 8
   },
   {
    "_defaultOrder": 42,
    "_isFastLaunch": false,
    "category": "Memory Optimized",
    "gpuNum": 0,
    "hideHardwareSpecs": false,
    "memoryGiB": 128,
    "name": "ml.r5.4xlarge",
    "vcpuNum": 16
   },
   {
    "_defaultOrder": 43,
    "_isFastLaunch": false,
    "category": "Memory Optimized",
    "gpuNum": 0,
    "hideHardwareSpecs": false,
    "memoryGiB": 256,
    "name": "ml.r5.8xlarge",
    "vcpuNum": 32
   },
   {
    "_defaultOrder": 44,
    "_isFastLaunch": false,
    "category": "Memory Optimized",
    "gpuNum": 0,
    "hideHardwareSpecs": false,
    "memoryGiB": 384,
    "name": "ml.r5.12xlarge",
    "vcpuNum": 48
   },
   {
    "_defaultOrder": 45,
    "_isFastLaunch": false,
    "category": "Memory Optimized",
    "gpuNum": 0,
    "hideHardwareSpecs": false,
    "memoryGiB": 512,
    "name": "ml.r5.16xlarge",
    "vcpuNum": 64
   },
   {
    "_defaultOrder": 46,
    "_isFastLaunch": false,
    "category": "Memory Optimized",
    "gpuNum": 0,
    "hideHardwareSpecs": false,
    "memoryGiB": 768,
    "name": "ml.r5.24xlarge",
    "vcpuNum": 96
   },
   {
    "_defaultOrder": 47,
    "_isFastLaunch": false,
    "category": "Accelerated computing",
    "gpuNum": 1,
    "hideHardwareSpecs": false,
    "memoryGiB": 16,
    "name": "ml.g5.xlarge",
    "vcpuNum": 4
   },
   {
    "_defaultOrder": 48,
    "_isFastLaunch": false,
    "category": "Accelerated computing",
    "gpuNum": 1,
    "hideHardwareSpecs": false,
    "memoryGiB": 32,
    "name": "ml.g5.2xlarge",
    "vcpuNum": 8
   },
   {
    "_defaultOrder": 49,
    "_isFastLaunch": false,
    "category": "Accelerated computing",
    "gpuNum": 1,
    "hideHardwareSpecs": false,
    "memoryGiB": 64,
    "name": "ml.g5.4xlarge",
    "vcpuNum": 16
   },
   {
    "_defaultOrder": 50,
    "_isFastLaunch": false,
    "category": "Accelerated computing",
    "gpuNum": 1,
    "hideHardwareSpecs": false,
    "memoryGiB": 128,
    "name": "ml.g5.8xlarge",
    "vcpuNum": 32
   },
   {
    "_defaultOrder": 51,
    "_isFastLaunch": false,
    "category": "Accelerated computing",
    "gpuNum": 1,
    "hideHardwareSpecs": false,
    "memoryGiB": 256,
    "name": "ml.g5.16xlarge",
    "vcpuNum": 64
   },
   {
    "_defaultOrder": 52,
    "_isFastLaunch": false,
    "category": "Accelerated computing",
    "gpuNum": 4,
    "hideHardwareSpecs": false,
    "memoryGiB": 192,
    "name": "ml.g5.12xlarge",
    "vcpuNum": 48
   },
   {
    "_defaultOrder": 53,
    "_isFastLaunch": false,
    "category": "Accelerated computing",
    "gpuNum": 4,
    "hideHardwareSpecs": false,
    "memoryGiB": 384,
    "name": "ml.g5.24xlarge",
    "vcpuNum": 96
   },
   {
    "_defaultOrder": 54,
    "_isFastLaunch": false,
    "category": "Accelerated computing",
    "gpuNum": 8,
    "hideHardwareSpecs": false,
    "memoryGiB": 768,
    "name": "ml.g5.48xlarge",
    "vcpuNum": 192
   },
   {
    "_defaultOrder": 55,
    "_isFastLaunch": false,
    "category": "Accelerated computing",
    "gpuNum": 8,
    "hideHardwareSpecs": false,
    "memoryGiB": 1152,
    "name": "ml.p4d.24xlarge",
    "vcpuNum": 96
   },
   {
    "_defaultOrder": 56,
    "_isFastLaunch": false,
    "category": "Accelerated computing",
    "gpuNum": 8,
    "hideHardwareSpecs": false,
    "memoryGiB": 1152,
    "name": "ml.p4de.24xlarge",
    "vcpuNum": 96
   }
  ],
  "instance_type": "ml.t3.medium",
  "kernelspec": {
   "display_name": "Python 3 (Data Science 3.0)",
   "language": "python",
   "name": "python3__SAGEMAKER_INTERNAL__arn:aws:sagemaker:ap-southeast-2:452832661640:image/sagemaker-data-science-310-v1"
  },
  "language_info": {
   "codemirror_mode": {
    "name": "ipython",
    "version": 3
   },
   "file_extension": ".py",
   "mimetype": "text/x-python",
   "name": "python",
   "nbconvert_exporter": "python",
   "pygments_lexer": "ipython3",
   "version": "3.10.6"
  },
  "toc-showcode": false,
  "widgets": {
   "application/vnd.jupyter.widget-state+json": {
    "state": {},
    "version_major": 2,
    "version_minor": 0
   }
  }
 },
 "nbformat": 4,
 "nbformat_minor": 4
}
