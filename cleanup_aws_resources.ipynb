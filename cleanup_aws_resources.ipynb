{
 "cells": [
  {
   "cell_type": "code",
   "execution_count": null,
   "metadata": {
    "collapsed": false,
    "jupyter": {
     "outputs_hidden": false
    },
    "pycharm": {
     "is_executing": true
    }
   },
   "outputs": [],
   "source": [
    "!pip install -r requirements.txt --user"
   ]
  },
  {
   "cell_type": "code",
   "execution_count": null,
   "metadata": {
    "collapsed": false,
    "jupyter": {
     "outputs_hidden": false
    }
   },
   "outputs": [],
   "source": [
    "import time\n",
    "import boto3\n",
    "\n",
    "sm = boto3.Session().client(\"sagemaker\")"
   ]
  },
  {
   "cell_type": "code",
   "execution_count": null,
   "metadata": {
    "collapsed": false,
    "jupyter": {
     "outputs_hidden": false
    }
   },
   "outputs": [],
   "source": [
    "def get_regions():\n",
    "    ec2 = boto3.client(\"ec2\")\n",
    "    regions = ec2.describe_regions()\n",
    "    return [r[\"RegionName\"] for r in regions[\"Regions\"]]"
   ]
  },
  {
   "cell_type": "code",
   "execution_count": null,
   "metadata": {},
   "outputs": [],
   "source": [
    "def search_projects(_project):\n",
    "    projects = sm.list_projects(NameContains=_project)\n",
    "\n",
    "    if \"NextToken\" in projects:\n",
    "        next_token = projects[\"NextToken\"]\n",
    "        print(f\"\\n{next_token}\")\n",
    "\n",
    "    print(\"ProjectNames:\")\n",
    "    for project in projects[\"ProjectSummaryList\"]:\n",
    "        project_name = project[\"ProjectName\"]\n",
    "        print(f\"\\n{project_name}\")"
   ]
  },
  {
   "cell_type": "code",
   "execution_count": null,
   "metadata": {
    "collapsed": false,
    "jupyter": {
     "outputs_hidden": false
    }
   },
   "outputs": [],
   "source": [
    "def cleanup_experiment(_experiment_name):\n",
    "    trials = sm.list_trials(ExperimentName=_experiment_name)[\"TrialSummaries\"]\n",
    "    print(\"TrialNames:\")\n",
    "    for trial in trials:\n",
    "        trial_name = trial[\"TrialName\"]\n",
    "        print(f\"\\n{trial_name}\")\n",
    "\n",
    "        components_in_trial = sm.list_trial_components(TrialName=trial_name)\n",
    "        print(\"\\tTrialComponentNames:\")\n",
    "        for component in components_in_trial[\"TrialComponentSummaries\"]:\n",
    "            component_name = component[\"TrialComponentName\"]\n",
    "            print(f\"\\t{component_name}\")\n",
    "            sm.disassociate_trial_component(TrialComponentName=component_name, TrialName=trial_name)\n",
    "            try:\n",
    "                # comment out to keep trial components\n",
    "                sm.delete_trial_component(TrialComponentName=component_name)\n",
    "            except:\n",
    "                # component is associated with another trial\n",
    "                continue\n",
    "            # to prevent throttling\n",
    "            time.sleep(0.5)\n",
    "        sm.delete_trial(TrialName=trial_name)\n",
    "    sm.delete_experiment(ExperimentName=_experiment_name)\n",
    "    print(f\"\\nExperiment {_experiment_name} deleted\")"
   ]
  },
  {
   "cell_type": "code",
   "execution_count": null,
   "metadata": {},
   "outputs": [],
   "source": [
    "def cleanup_model(_model_name):\n",
    "    models = sm.list_models(NameContains=_model_name)\n",
    "    model_bias_job_definitions = sm.list_model_bias_job_definitions(NameContains=_model_name)\n",
    "    model_explainability_job_definitions = sm.list_model_explainability_job_definitions(\n",
    "        NameContains=_model_name\n",
    "    )\n",
    "    # model_metadata = sm.list_model_metadata(NameContains=_model_name)\n",
    "    model_package_groups = sm.list_model_package_groups(NameContains=_model_name)\n",
    "    model_quality_job_definitions = sm.list_model_quality_job_definitions(NameContains=_model_name)\n",
    "\n",
    "    if \"NextToken\" in models:\n",
    "        next_token = models[\"NextToken\"]\n",
    "        print(f\"\\n{next_token}\")\n",
    "\n",
    "    print(\"JobDefinitions:\")\n",
    "    for model in model_bias_job_definitions[\"JobDefinitionSummaries\"]:\n",
    "        model_name = model[\"EndpointName\"]\n",
    "        print(f\"\\n{model_name}\")\n",
    "\n",
    "    print(\"JobDefinitions:\")\n",
    "    for model in model_explainability_job_definitions[\"JobDefinitionSummaries\"]:\n",
    "        model_name = model[\"EndpointName\"]\n",
    "        print(f\"\\n{model_name}\")\n",
    "\n",
    "    # print(\"ModelNames:\")\n",
    "    # for model in model_metadata[\"Models\"]:\n",
    "    #     model_name = model[\"ModelName\"]\n",
    "    #     print(f\"\\n{model_name}\")\n",
    "\n",
    "    print(\"ModelPackageGroupNames:\")\n",
    "    for group in model_package_groups[\"ModelPackageGroupSummaryList\"]:\n",
    "        group_name = group[\"ModelPackageGroupName\"]\n",
    "        print(f\"\\n{group_name}\")\n",
    "\n",
    "        model_packages = sm.list_model_packages(ModelPackageGroupName=group_name)\n",
    "        print(\"ModelPackageNames:\")\n",
    "        for package in model_packages[\"ModelPackageSummaryList\"]:\n",
    "            if \"ModelPackageName\" in package:\n",
    "                package_name = package[\"ModelPackageName\"]\n",
    "                print(f\"\\n{package_name}\")\n",
    "                sm.delete_model_package(ModelPackageName=package_name)\n",
    "        sm.delete_model_package_group(ModelPackageGroupName=group_name)\n",
    "\n",
    "    print(\"JobDefinitions:\")\n",
    "    for model in model_quality_job_definitions[\"JobDefinitionSummaries\"]:\n",
    "        model_name = model[\"EndpointName\"]\n",
    "        print(f\"\\n{model_name}\")\n",
    "\n",
    "    print(\"ModelNames:\")\n",
    "    for model in models[\"Models\"]:\n",
    "        model_name = model[\"ModelName\"]\n",
    "        print(f\"\\n{model_name}\")"
   ]
  },
  {
   "cell_type": "code",
   "execution_count": null,
   "metadata": {},
   "outputs": [],
   "source": [
    "def cleanup_endpoint(_endpoint_name):\n",
    "    endpoints = sm.list_endpoints(NameContains=_endpoint_name)\n",
    "\n",
    "    if \"NextToken\" in endpoints:\n",
    "        next_token = endpoints[\"NextToken\"]\n",
    "        print(f\"\\n{next_token}\")\n",
    "\n",
    "    print(\"EndpointNames:\")\n",
    "    for endpoint in endpoints[\"Endpoints\"]:\n",
    "        endpoint_name = endpoint[\"EndpointName\"]\n",
    "        sm.delete_endpoint(EndpointName=endpoint_name)\n",
    "        print(f\"\\n{endpoint_name} deleted\")\n",
    "\n",
    "    #     components_in_trial = sm.list_trial_components(TrialName=trial_name)\n",
    "    #     print(\"\\tTrialComponentNames:\")\n",
    "    #     for component in components_in_trial[\"TrialComponentSummaries\"]:\n",
    "    #         component_name = component[\"TrialComponentName\"]\n",
    "    #         print(f\"\\t{component_name}\")\n",
    "    #         sm.disassociate_trial_component(TrialComponentName=component_name, TrialName=trial_name)\n",
    "    #         try:\n",
    "    #             # comment out to keep trial components\n",
    "    #             sm.delete_trial_component(TrialComponentName=component_name)\n",
    "    #         except:\n",
    "    #             # component is associated with another trial\n",
    "    #             continue\n",
    "    #         # to prevent throttling\n",
    "    #         time.sleep(0.5)\n",
    "    #     sm.delete_trial(TrialName=trial_name)\n",
    "    # sm.delete_experiment(ExperimentName=_experiment_name)\n",
    "    # print(f\"\\nExperiment {_experiment_name} deleted\")"
   ]
  },
  {
   "cell_type": "code",
   "execution_count": null,
   "metadata": {
    "collapsed": false,
    "jupyter": {
     "outputs_hidden": false
    }
   },
   "outputs": [],
   "source": [
    "def cleanup_monitoring_schedules(_monitoring_schedule_name):\n",
    "    sm.delete_monitoring_schedule(MonitoringScheduleName=_monitoring_schedule_name)"
   ]
  },
  {
   "cell_type": "code",
   "execution_count": null,
   "metadata": {
    "collapsed": false,
    "jupyter": {
     "outputs_hidden": false
    }
   },
   "outputs": [],
   "source": [
    "def cleanup_endpoints(_endpoint_name):\n",
    "    sm.delete_endpoint(EndpointName=_endpoint_name)"
   ]
  },
  {
   "cell_type": "code",
   "execution_count": null,
   "metadata": {},
   "outputs": [],
   "source": [
    "def cleanup_project(project_name):\n",
    "    sm.delete_project(ProjectName=project_name)"
   ]
  },
  {
   "cell_type": "code",
   "execution_count": null,
   "metadata": {},
   "outputs": [],
   "source": [
    "experiment_name = \"jumpstart-example-py-220927-0613\"\n",
    "cleanup_experiment(experiment_name)\n",
    "\n",
    "monitoring_schedules = sm.list_monitoring_schedules()\n",
    "for monitoring_schedule in monitoring_schedules[\"MonitoringScheduleSummaries\"]:\n",
    "    print(monitoring_schedule[\"MonitoringScheduleName\"])\n",
    "    monitoring_schedule_name = monitoring_schedule[\"MonitoringScheduleName\"]\n",
    "    cleanup_monitoring_schedules(monitoring_schedule_name)\n",
    "\n",
    "endpoints = sm.list_endpoints()\n",
    "for endpoint in endpoints[\"Endpoints\"]:\n",
    "    print(endpoint[\"EndpointName\"])\n",
    "    endpoint_name = endpoint[\"EndpointName\"]\n",
    "    cleanup_endpoints(endpoint_name)"
   ]
  },
  {
   "cell_type": "code",
   "execution_count": null,
   "metadata": {},
   "outputs": [],
   "source": [
    "# get_regions()"
   ]
  },
  {
   "cell_type": "code",
   "execution_count": null,
   "metadata": {
    "collapsed": false,
    "jupyter": {
     "outputs_hidden": false
    }
   },
   "outputs": [],
   "source": [
    "search_projects(\"animal\")"
   ]
  },
  {
   "cell_type": "code",
   "execution_count": null,
   "metadata": {},
   "outputs": [],
   "source": [
    "cleanup_model(\"AbaloneModel\")"
   ]
  },
  {
   "cell_type": "code",
   "execution_count": null,
   "metadata": {},
   "outputs": [],
   "source": [
    "cleanup_model(\"animal-classifier\")"
   ]
  },
  {
   "cell_type": "code",
   "execution_count": null,
   "metadata": {},
   "outputs": [],
   "source": [
    "cleanup_project(\"animal-classifier\")"
   ]
  },
  {
   "cell_type": "code",
   "execution_count": null,
   "metadata": {},
   "outputs": [],
   "source": [
    "cleanup_endpoint(\"sagemaker-sklearn-automl\")"
   ]
  },
  {
   "cell_type": "code",
   "execution_count": null,
   "metadata": {},
   "outputs": [],
   "source": []
  }
 ],
 "metadata": {
  "instance_type": "ml.t3.medium",
  "kernelspec": {
   "display_name": "Python 3 (Data Science)",
   "language": "python",
   "name": "python3__SAGEMAKER_INTERNAL__arn:aws:sagemaker:ap-southeast-2:452832661640:image/datascience-1.0"
  },
  "language_info": {
   "codemirror_mode": {
    "name": "ipython",
    "version": 3
   },
   "file_extension": ".py",
   "mimetype": "text/x-python",
   "name": "python",
   "nbconvert_exporter": "python",
   "pygments_lexer": "ipython3",
   "version": "3.7.10"
  }
 },
 "nbformat": 4,
 "nbformat_minor": 4
}
