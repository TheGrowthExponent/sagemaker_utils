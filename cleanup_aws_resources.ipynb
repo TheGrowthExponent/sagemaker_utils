{
 "cells": [
  {
   "cell_type": "code",
   "execution_count": 199,
   "metadata": {
    "collapsed": false,
    "jupyter": {
     "outputs_hidden": false
    },
    "pycharm": {
     "is_executing": true
    }
   },
   "outputs": [
    {
     "name": "stdout",
     "output_type": "stream",
     "text": [
      "Requirement already satisfied: boto3==1.24.42 in /root/.local/lib/python3.7/site-packages (from -r requirements.txt (line 1)) (1.24.42)\n",
      "Requirement already satisfied: jmespath<2.0.0,>=0.7.1 in /opt/conda/lib/python3.7/site-packages (from boto3==1.24.42->-r requirements.txt (line 1)) (1.0.1)\n",
      "Requirement already satisfied: s3transfer<0.7.0,>=0.6.0 in /opt/conda/lib/python3.7/site-packages (from boto3==1.24.42->-r requirements.txt (line 1)) (0.6.0)\n",
      "Requirement already satisfied: botocore<1.28.0,>=1.27.42 in /opt/conda/lib/python3.7/site-packages (from boto3==1.24.42->-r requirements.txt (line 1)) (1.27.62)\n",
      "Requirement already satisfied: urllib3<1.27,>=1.25.4 in /opt/conda/lib/python3.7/site-packages (from botocore<1.28.0,>=1.27.42->boto3==1.24.42->-r requirements.txt (line 1)) (1.26.12)\n",
      "Requirement already satisfied: python-dateutil<3.0.0,>=2.1 in /root/.local/lib/python3.7/site-packages (from botocore<1.28.0,>=1.27.42->boto3==1.24.42->-r requirements.txt (line 1)) (2.8.2)\n",
      "Requirement already satisfied: six>=1.5 in /opt/conda/lib/python3.7/site-packages (from python-dateutil<3.0.0,>=2.1->botocore<1.28.0,>=1.27.42->boto3==1.24.42->-r requirements.txt (line 1)) (1.14.0)\n",
      "\u001b[33mWARNING: Running pip as the 'root' user can result in broken permissions and conflicting behaviour with the system package manager. It is recommended to use a virtual environment instead: https://pip.pypa.io/warnings/venv\u001b[0m\u001b[33m\n",
      "\u001b[0m"
     ]
    }
   ],
   "source": [
    "!pip install -r requirements.txt --user"
   ]
  },
  {
   "cell_type": "code",
   "execution_count": 200,
   "metadata": {
    "collapsed": false,
    "jupyter": {
     "outputs_hidden": false
    }
   },
   "outputs": [],
   "source": [
    "import time\n",
    "\n",
    "import boto3\n",
    "\n",
    "sm = boto3.Session().client(\"sagemaker\")"
   ]
  },
  {
   "cell_type": "code",
   "execution_count": 201,
   "metadata": {
    "collapsed": false,
    "jupyter": {
     "outputs_hidden": false
    }
   },
   "outputs": [],
   "source": [
    "def get_regions():\n",
    "    ec2 = boto3.client(\"ec2\")\n",
    "    regions = ec2.describe_regions()\n",
    "    return [r[\"RegionName\"] for r in regions[\"Regions\"]]"
   ]
  },
  {
   "cell_type": "code",
   "execution_count": 202,
   "metadata": {},
   "outputs": [],
   "source": [
    "def search_projects(_project):\n",
    "    projects = sm.list_projects(NameContains=_project)\n",
    "\n",
    "    if \"NextToken\" in projects:\n",
    "        next_token = projects[\"NextToken\"]\n",
    "        print(f\"\\n{next_token}\")\n",
    "\n",
    "    print(\"ProjectNames:\")\n",
    "    for project in projects[\"ProjectSummaryList\"]:\n",
    "        project_name = project[\"ProjectName\"]\n",
    "        print(f\"\\n{project_name}\")"
   ]
  },
  {
   "cell_type": "code",
   "execution_count": 203,
   "metadata": {
    "collapsed": false,
    "jupyter": {
     "outputs_hidden": false
    }
   },
   "outputs": [],
   "source": [
    "def cleanup_experiment(_experiment_name):\n",
    "    trials = sm.list_trials(ExperimentName=_experiment_name)[\"TrialSummaries\"]\n",
    "    print(\"TrialNames:\")\n",
    "    for trial in trials:\n",
    "        trial_name = trial[\"TrialName\"]\n",
    "        print(f\"\\n{trial_name}\")\n",
    "\n",
    "        components_in_trial = sm.list_trial_components(TrialName=trial_name)\n",
    "        print(\"\\tTrialComponentNames:\")\n",
    "        for component in components_in_trial[\"TrialComponentSummaries\"]:\n",
    "            component_name = component[\"TrialComponentName\"]\n",
    "            print(f\"\\t{component_name}\")\n",
    "            sm.disassociate_trial_component(TrialComponentName=component_name, TrialName=trial_name)\n",
    "            try:\n",
    "                # comment out to keep trial components\n",
    "                sm.delete_trial_component(TrialComponentName=component_name)\n",
    "            except:\n",
    "                # component is associated with another trial\n",
    "                continue\n",
    "            # to prevent throttling\n",
    "            time.sleep(0.5)\n",
    "        sm.delete_trial(TrialName=trial_name)\n",
    "    sm.delete_experiment(ExperimentName=_experiment_name)\n",
    "    print(f\"\\nExperiment {_experiment_name} deleted\")"
   ]
  },
  {
   "cell_type": "code",
   "execution_count": 204,
   "metadata": {},
   "outputs": [],
   "source": [
    "def cleanup_model(_model_name):\n",
    "    models = sm.list_models(NameContains=_model_name)\n",
    "    model_bias_job_definitions = sm.list_model_bias_job_definitions(NameContains=_model_name)\n",
    "    model_explainability_job_definitions = sm.list_model_explainability_job_definitions(\n",
    "        NameContains=_model_name\n",
    "    )\n",
    "    # model_metadata = sm.list_model_metadata(NameContains=_model_name)\n",
    "    model_package_groups = sm.list_model_package_groups(NameContains=_model_name)\n",
    "    model_quality_job_definitions = sm.list_model_quality_job_definitions(NameContains=_model_name)\n",
    "\n",
    "    if \"NextToken\" in models:\n",
    "        next_token = models[\"NextToken\"]\n",
    "        print(f\"\\n{next_token}\")\n",
    "\n",
    "    print(\"JobDefinitions:\")\n",
    "    for model in model_bias_job_definitions[\"JobDefinitionSummaries\"]:\n",
    "        model_name = model[\"EndpointName\"]\n",
    "        print(f\"\\n{model_name}\")\n",
    "\n",
    "    print(\"JobDefinitions:\")\n",
    "    for model in model_explainability_job_definitions[\"JobDefinitionSummaries\"]:\n",
    "        model_name = model[\"EndpointName\"]\n",
    "        print(f\"\\n{model_name}\")\n",
    "\n",
    "    # print(\"ModelNames:\")\n",
    "    # for model in model_metadata[\"Models\"]:\n",
    "    #     model_name = model[\"ModelName\"]\n",
    "    #     print(f\"\\n{model_name}\")\n",
    "\n",
    "    print(\"ModelPackageGroupNames:\")\n",
    "    for group in model_package_groups[\"ModelPackageGroupSummaryList\"]:\n",
    "        group_name = group[\"ModelPackageGroupName\"]\n",
    "        print(f\"\\n{group_name}\")\n",
    "\n",
    "        model_packages = sm.list_model_packages(ModelPackageGroupName=group_name)\n",
    "        print(\"ModelPackageNames:\")\n",
    "        for package in model_packages[\"ModelPackageSummaryList\"]:\n",
    "            if \"ModelPackageName\" in package:\n",
    "                package_name = package[\"ModelPackageName\"]\n",
    "                print(f\"\\n{package_name}\")\n",
    "                sm.delete_model_package(ModelPackageName=package_name)\n",
    "        sm.delete_model_package_group(ModelPackageGroupName=group_name)\n",
    "\n",
    "    print(\"JobDefinitions:\")\n",
    "    for model in model_quality_job_definitions[\"JobDefinitionSummaries\"]:\n",
    "        model_name = model[\"EndpointName\"]\n",
    "        print(f\"\\n{model_name}\")\n",
    "\n",
    "    print(\"ModelNames:\")\n",
    "    for model in models[\"Models\"]:\n",
    "        model_name = model[\"ModelName\"]\n",
    "        print(f\"\\n{model_name}\")"
   ]
  },
  {
   "cell_type": "code",
   "execution_count": 219,
   "metadata": {},
   "outputs": [],
   "source": [
    "def cleanup_endpoint(_endpoint_name):\n",
    "    endpoints = sm.list_endpoints(NameContains=_endpoint_name)\n",
    "\n",
    "    if \"NextToken\" in endpoints:\n",
    "        next_token = endpoints[\"NextToken\"]\n",
    "        print(f\"\\n{next_token}\")\n",
    "\n",
    "    print(\"EndpointNames:\")\n",
    "    for endpoint in endpoints[\"Endpoints\"]:\n",
    "        endpoint_name = endpoint[\"EndpointName\"]\n",
    "        sm.delete_endpoint(EndpointName=endpoint_name)\n",
    "        print(f\"\\n{endpoint_name} deleted\")\n",
    "\n",
    "    #     components_in_trial = sm.list_trial_components(TrialName=trial_name)\n",
    "    #     print(\"\\tTrialComponentNames:\")\n",
    "    #     for component in components_in_trial[\"TrialComponentSummaries\"]:\n",
    "    #         component_name = component[\"TrialComponentName\"]\n",
    "    #         print(f\"\\t{component_name}\")\n",
    "    #         sm.disassociate_trial_component(TrialComponentName=component_name, TrialName=trial_name)\n",
    "    #         try:\n",
    "    #             # comment out to keep trial components\n",
    "    #             sm.delete_trial_component(TrialComponentName=component_name)\n",
    "    #         except:\n",
    "    #             # component is associated with another trial\n",
    "    #             continue\n",
    "    #         # to prevent throttling\n",
    "    #         time.sleep(0.5)\n",
    "    #     sm.delete_trial(TrialName=trial_name)\n",
    "    # sm.delete_experiment(ExperimentName=_experiment_name)\n",
    "    # print(f\"\\nExperiment {_experiment_name} deleted\")"
   ]
  },
  {
   "cell_type": "code",
   "execution_count": 220,
   "metadata": {
    "collapsed": false,
    "jupyter": {
     "outputs_hidden": false
    }
   },
   "outputs": [],
   "source": [
    "def cleanup_monitoring_schedules(_monitoring_schedule_name):\n",
    "    sm.delete_monitoring_schedule(MonitoringScheduleName=_monitoring_schedule_name)"
   ]
  },
  {
   "cell_type": "code",
   "execution_count": 206,
   "metadata": {
    "collapsed": false,
    "jupyter": {
     "outputs_hidden": false
    }
   },
   "outputs": [],
   "source": [
    "def cleanup_endpoints(_endpoint_name):\n",
    "    sm.delete_endpoint(EndpointName=_endpoint_name)"
   ]
  },
  {
   "cell_type": "code",
   "execution_count": 207,
   "metadata": {},
   "outputs": [],
   "source": [
    "def cleanup_project(project_name):\n",
    "    sm.delete_project(ProjectName=project_name)"
   ]
  },
  {
   "cell_type": "code",
   "execution_count": 208,
   "metadata": {},
   "outputs": [
    {
     "ename": "ResourceNotFound",
     "evalue": "An error occurred (ResourceNotFound) when calling the ListTrials operation: Experiment 'arn:aws:sagemaker:ap-southeast-2:487750889657:experiment/experiment-1' does not exist.",
     "output_type": "error",
     "traceback": [
      "\u001b[0;31m---------------------------------------------------------------------------\u001b[0m",
      "\u001b[0;31mResourceNotFound\u001b[0m                          Traceback (most recent call last)",
      "\u001b[0;32m/tmp/ipykernel_17/3989448564.py\u001b[0m in \u001b[0;36m<module>\u001b[0;34m\u001b[0m\n\u001b[1;32m      1\u001b[0m \u001b[0mexperiment_name\u001b[0m \u001b[0;34m=\u001b[0m \u001b[0;34m\"Experiment-1\"\u001b[0m\u001b[0;34m\u001b[0m\u001b[0;34m\u001b[0m\u001b[0m\n\u001b[0;32m----> 2\u001b[0;31m \u001b[0mcleanup_experiment\u001b[0m\u001b[0;34m(\u001b[0m\u001b[0mexperiment_name\u001b[0m\u001b[0;34m)\u001b[0m\u001b[0;34m\u001b[0m\u001b[0;34m\u001b[0m\u001b[0m\n\u001b[0m\u001b[1;32m      3\u001b[0m \u001b[0;34m\u001b[0m\u001b[0m\n\u001b[1;32m      4\u001b[0m \u001b[0mmonitoring_schedules\u001b[0m \u001b[0;34m=\u001b[0m \u001b[0msm\u001b[0m\u001b[0;34m.\u001b[0m\u001b[0mlist_monitoring_schedules\u001b[0m\u001b[0;34m(\u001b[0m\u001b[0;34m)\u001b[0m\u001b[0;34m\u001b[0m\u001b[0;34m\u001b[0m\u001b[0m\n\u001b[1;32m      5\u001b[0m \u001b[0;32mfor\u001b[0m \u001b[0mmonitoring_schedule\u001b[0m \u001b[0;32min\u001b[0m \u001b[0mmonitoring_schedules\u001b[0m\u001b[0;34m[\u001b[0m\u001b[0;34m\"MonitoringScheduleSummaries\"\u001b[0m\u001b[0;34m]\u001b[0m\u001b[0;34m:\u001b[0m\u001b[0;34m\u001b[0m\u001b[0;34m\u001b[0m\u001b[0m\n",
      "\u001b[0;32m/tmp/ipykernel_17/3640772847.py\u001b[0m in \u001b[0;36mcleanup_experiment\u001b[0;34m(_experiment_name)\u001b[0m\n\u001b[1;32m      1\u001b[0m \u001b[0;32mdef\u001b[0m \u001b[0mcleanup_experiment\u001b[0m\u001b[0;34m(\u001b[0m\u001b[0m_experiment_name\u001b[0m\u001b[0;34m)\u001b[0m\u001b[0;34m:\u001b[0m\u001b[0;34m\u001b[0m\u001b[0;34m\u001b[0m\u001b[0m\n\u001b[0;32m----> 2\u001b[0;31m     \u001b[0mtrials\u001b[0m \u001b[0;34m=\u001b[0m \u001b[0msm\u001b[0m\u001b[0;34m.\u001b[0m\u001b[0mlist_trials\u001b[0m\u001b[0;34m(\u001b[0m\u001b[0mExperimentName\u001b[0m\u001b[0;34m=\u001b[0m\u001b[0m_experiment_name\u001b[0m\u001b[0;34m)\u001b[0m\u001b[0;34m[\u001b[0m\u001b[0;34m\"TrialSummaries\"\u001b[0m\u001b[0;34m]\u001b[0m\u001b[0;34m\u001b[0m\u001b[0;34m\u001b[0m\u001b[0m\n\u001b[0m\u001b[1;32m      3\u001b[0m     \u001b[0mprint\u001b[0m\u001b[0;34m(\u001b[0m\u001b[0;34m\"TrialNames:\"\u001b[0m\u001b[0;34m)\u001b[0m\u001b[0;34m\u001b[0m\u001b[0;34m\u001b[0m\u001b[0m\n\u001b[1;32m      4\u001b[0m     \u001b[0;32mfor\u001b[0m \u001b[0mtrial\u001b[0m \u001b[0;32min\u001b[0m \u001b[0mtrials\u001b[0m\u001b[0;34m:\u001b[0m\u001b[0;34m\u001b[0m\u001b[0;34m\u001b[0m\u001b[0m\n\u001b[1;32m      5\u001b[0m         \u001b[0mtrial_name\u001b[0m \u001b[0;34m=\u001b[0m \u001b[0mtrial\u001b[0m\u001b[0;34m[\u001b[0m\u001b[0;34m\"TrialName\"\u001b[0m\u001b[0;34m]\u001b[0m\u001b[0;34m\u001b[0m\u001b[0;34m\u001b[0m\u001b[0m\n",
      "\u001b[0;32m/opt/conda/lib/python3.7/site-packages/botocore/client.py\u001b[0m in \u001b[0;36m_api_call\u001b[0;34m(self, *args, **kwargs)\u001b[0m\n\u001b[1;32m    510\u001b[0m                 )\n\u001b[1;32m    511\u001b[0m             \u001b[0;31m# The \"self\" in this scope is referring to the BaseClient.\u001b[0m\u001b[0;34m\u001b[0m\u001b[0;34m\u001b[0m\u001b[0;34m\u001b[0m\u001b[0m\n\u001b[0;32m--> 512\u001b[0;31m             \u001b[0;32mreturn\u001b[0m \u001b[0mself\u001b[0m\u001b[0;34m.\u001b[0m\u001b[0m_make_api_call\u001b[0m\u001b[0;34m(\u001b[0m\u001b[0moperation_name\u001b[0m\u001b[0;34m,\u001b[0m \u001b[0mkwargs\u001b[0m\u001b[0;34m)\u001b[0m\u001b[0;34m\u001b[0m\u001b[0;34m\u001b[0m\u001b[0m\n\u001b[0m\u001b[1;32m    513\u001b[0m \u001b[0;34m\u001b[0m\u001b[0m\n\u001b[1;32m    514\u001b[0m         \u001b[0m_api_call\u001b[0m\u001b[0;34m.\u001b[0m\u001b[0m__name__\u001b[0m \u001b[0;34m=\u001b[0m \u001b[0mstr\u001b[0m\u001b[0;34m(\u001b[0m\u001b[0mpy_operation_name\u001b[0m\u001b[0;34m)\u001b[0m\u001b[0;34m\u001b[0m\u001b[0;34m\u001b[0m\u001b[0m\n",
      "\u001b[0;32m/opt/conda/lib/python3.7/site-packages/botocore/client.py\u001b[0m in \u001b[0;36m_make_api_call\u001b[0;34m(self, operation_name, api_params)\u001b[0m\n\u001b[1;32m    917\u001b[0m             \u001b[0merror_code\u001b[0m \u001b[0;34m=\u001b[0m \u001b[0mparsed_response\u001b[0m\u001b[0;34m.\u001b[0m\u001b[0mget\u001b[0m\u001b[0;34m(\u001b[0m\u001b[0;34m\"Error\"\u001b[0m\u001b[0;34m,\u001b[0m \u001b[0;34m{\u001b[0m\u001b[0;34m}\u001b[0m\u001b[0;34m)\u001b[0m\u001b[0;34m.\u001b[0m\u001b[0mget\u001b[0m\u001b[0;34m(\u001b[0m\u001b[0;34m\"Code\"\u001b[0m\u001b[0;34m)\u001b[0m\u001b[0;34m\u001b[0m\u001b[0;34m\u001b[0m\u001b[0m\n\u001b[1;32m    918\u001b[0m             \u001b[0merror_class\u001b[0m \u001b[0;34m=\u001b[0m \u001b[0mself\u001b[0m\u001b[0;34m.\u001b[0m\u001b[0mexceptions\u001b[0m\u001b[0;34m.\u001b[0m\u001b[0mfrom_code\u001b[0m\u001b[0;34m(\u001b[0m\u001b[0merror_code\u001b[0m\u001b[0;34m)\u001b[0m\u001b[0;34m\u001b[0m\u001b[0;34m\u001b[0m\u001b[0m\n\u001b[0;32m--> 919\u001b[0;31m             \u001b[0;32mraise\u001b[0m \u001b[0merror_class\u001b[0m\u001b[0;34m(\u001b[0m\u001b[0mparsed_response\u001b[0m\u001b[0;34m,\u001b[0m \u001b[0moperation_name\u001b[0m\u001b[0;34m)\u001b[0m\u001b[0;34m\u001b[0m\u001b[0;34m\u001b[0m\u001b[0m\n\u001b[0m\u001b[1;32m    920\u001b[0m         \u001b[0;32melse\u001b[0m\u001b[0;34m:\u001b[0m\u001b[0;34m\u001b[0m\u001b[0;34m\u001b[0m\u001b[0m\n\u001b[1;32m    921\u001b[0m             \u001b[0;32mreturn\u001b[0m \u001b[0mparsed_response\u001b[0m\u001b[0;34m\u001b[0m\u001b[0;34m\u001b[0m\u001b[0m\n",
      "\u001b[0;31mResourceNotFound\u001b[0m: An error occurred (ResourceNotFound) when calling the ListTrials operation: Experiment 'arn:aws:sagemaker:ap-southeast-2:487750889657:experiment/experiment-1' does not exist."
     ]
    }
   ],
   "source": [
    "experiment_name = \"Experiment-1\"\n",
    "cleanup_experiment(experiment_name)\n",
    "\n",
    "monitoring_schedules = sm.list_monitoring_schedules()\n",
    "for monitoring_schedule in monitoring_schedules[\"MonitoringScheduleSummaries\"]:\n",
    "    print(monitoring_schedule[\"MonitoringScheduleName\"])\n",
    "    monitoring_schedule_name = monitoring_schedule[\"MonitoringScheduleName\"]\n",
    "    cleanup_monitoring_schedules(monitoring_schedule_name)\n",
    "\n",
    "endpoints = sm.list_endpoints()\n",
    "for endpoint in endpoints[\"Endpoints\"]:\n",
    "    print(endpoint[\"EndpointName\"])\n",
    "    endpoint_name = endpoint[\"EndpointName\"]\n",
    "    cleanup_endpoints(endpoint_name)"
   ]
  },
  {
   "cell_type": "code",
   "execution_count": 209,
   "metadata": {},
   "outputs": [],
   "source": [
    "# get_regions()"
   ]
  },
  {
   "cell_type": "code",
   "execution_count": 210,
   "metadata": {
    "collapsed": false,
    "jupyter": {
     "outputs_hidden": false
    }
   },
   "outputs": [
    {
     "name": "stdout",
     "output_type": "stream",
     "text": [
      "ProjectNames:\n",
      "\n",
      "animal-classifier\n"
     ]
    }
   ],
   "source": [
    "search_projects(\"animal\")"
   ]
  },
  {
   "cell_type": "code",
   "execution_count": 211,
   "metadata": {},
   "outputs": [
    {
     "name": "stdout",
     "output_type": "stream",
     "text": [
      "\n",
      "cIws2QhTXUIa8bi8WfGtdPps9v88eG63iCQLqSXVJZs49aU70ECEWZ+dm+ceK1BBww0cOrp/9KWwuxqPb6YVZWIRXKuIMZYd8TbcDiv4snGlfCc6d5Yh13klD7aGT9V/eeehnWAIdWc+qamwcaiORvsTEJC62kkD4oUw9owZAX5RPCAsxxa5/nwDBQUt+tpupsiDvPuGFGtQF7ud9PGRuc9xWbXTJLGo/39Ce2w4jAgcRaDwK84H85kLs2Xg8gt+PfNZHnhbBrvcp36AU+U8+JQssVPSe6zTBa48Vp7Q2TSr6l/7D+mz6TudsDxOsrsmIkMxPmFvb9oS38Lsw36grAZR05dPlwb+VhzXBgVJfn5YsRYM9p49zDuiUgWsPjGf6J5N6zH3kWbVVEpGSCBGyWnQOTGJ6PG+9rjAn/frFLCz2fhQ/qsn0TZOiVk6RTSk8qoXemZEFjngIbuFWv/tI5XavBaCEXyDGo80civk4EaaBZ+ZKOzWJZo7dgQ5O6gld7P08VoMeq1diNLg3Wn1kp401hFgn5tkQjvItP3z0pMUNylrpWEowqf89W399vJs8K6y4GuTn5kJQCM0hG6+CkYV6ow5CExEFkcXfH0NMlPcmo3Xeg==\n",
      "JobDefinitions:\n",
      "JobDefinitions:\n",
      "ModelPackageGroupNames:\n",
      "JobDefinitions:\n",
      "ModelNames:\n"
     ]
    }
   ],
   "source": [
    "cleanup_model(\"AbaloneModel\")"
   ]
  },
  {
   "cell_type": "code",
   "execution_count": 212,
   "metadata": {},
   "outputs": [
    {
     "name": "stdout",
     "output_type": "stream",
     "text": [
      "\n",
      "cIws2QhTXUIa8bi8WfGtdPps9v88eG63iCQLqSXVJZs49aU70ECEWZ+dm+ceK1BBww0cOrp/9KWwuxqPb6YVZWIRXKuIMZYd8TbcDiv4snGlfCc6d5Yh13klD7aGT9V/eeehnWAIdWc+qamwcaiORvsTEJC62kkD4oUw9owZAX5RPCAsxxa5/nwDBQUt+tpupsiDvPuGFGtQF7ud9PGRuc9xWbXTJLGo/39Ce2w4jAgcRaDwK84H85kLs2Xg8is0oaqwdsugM0syDnLQmCYaJAaP91qTij+SUc3kj/kG2ctKZPH5/lFNKnpbYfazTkmBFZ7KW6/Ke2OfN1w8mcjaPBdbjOOVSwNYlVTPLpSTG85wtEfDe0pAMVrNvhL7xkbv0rsvrcn+rYCrM34foQsN035zVyUYgnEu40DYHoJ6AD3HVUAQNmPN6/1g4QDUepPu4DI8sWAmB7UUOzwa1Y4Rj8CsSjPGg9cDhJn1eLMcIcyrNwRLeO7MM3VofW5bRtfl/wSchsxtfve5CtI20DNRlPGLoe8yxf8tMw/QVEjTYVIQjzjXiNqKmox+9RF1Cbz4a7UdSGIoWPetKZwlTkSR74RNS1UjEYz5celzevPqo5NN1yvVw+Bh2bbi\n",
      "JobDefinitions:\n",
      "JobDefinitions:\n",
      "ModelPackageGroupNames:\n",
      "JobDefinitions:\n",
      "ModelNames:\n"
     ]
    }
   ],
   "source": [
    "cleanup_model(\"animal-classifier\")"
   ]
  },
  {
   "cell_type": "code",
   "execution_count": 213,
   "metadata": {},
   "outputs": [],
   "source": [
    "cleanup_project(\"animal-classifier\")"
   ]
  },
  {
   "cell_type": "code",
   "execution_count": 221,
   "metadata": {},
   "outputs": [
    {
     "name": "stdout",
     "output_type": "stream",
     "text": [
      "EndpointNames:\n",
      "\n",
      "sagemaker-sklearn-automl-2022-02-21-07-08-03-300 deleted\n",
      "\n",
      "sagemaker-sklearn-automl-2022-02-21-04-23-13-518 deleted\n",
      "\n",
      "sagemaker-sklearn-automl-2022-02-17-07-43-41-060 deleted\n"
     ]
    }
   ],
   "source": [
    "cleanup_endpoint(\"sagemaker-sklearn-automl\")"
   ]
  },
  {
   "cell_type": "code",
   "execution_count": null,
   "metadata": {},
   "outputs": [],
   "source": []
  }
 ],
 "metadata": {
  "instance_type": "ml.t3.medium",
  "kernelspec": {
   "display_name": "Python 3 (Data Science)",
   "language": "python",
   "name": "python3__SAGEMAKER_INTERNAL__arn:aws:sagemaker:ap-southeast-2:452832661640:image/datascience-1.0"
  },
  "language_info": {
   "codemirror_mode": {
    "name": "ipython",
    "version": 3
   },
   "file_extension": ".py",
   "mimetype": "text/x-python",
   "name": "python",
   "nbconvert_exporter": "python",
   "pygments_lexer": "ipython3",
   "version": "3.7.10"
  }
 },
 "nbformat": 4,
 "nbformat_minor": 4
}
